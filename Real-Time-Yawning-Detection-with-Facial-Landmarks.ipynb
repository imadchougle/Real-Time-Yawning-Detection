{
 "cells": [
  {
   "cell_type": "code",
   "execution_count": 18,
   "id": "2e1d7742-6e31-4938-a9f1-9417bb1c10ad",
   "metadata": {},
   "outputs": [],
   "source": [
    "import cv2\n",
    "import dlib\n",
    "import math\n",
    "import pygame"
   ]
  },
  
  {
   "cell_type": "code",
   "execution_count": 20,
   "id": "207a70f6-ad8b-45ea-a0bf-a2d5196bc9bd",
   "metadata": {},
   "outputs": [],
   "source": [
    "consecutive_frames_yawning = 0\n",
    "yawning_threshold = 15 \n",
    "yawn_detected = False  \n",
    "\n",
    "yawn_count = 0\n",
    "yawn_alert_threshold = 4  \n",
    "alert_displayed = False\n",
    "\n",
    "cap = cv2.VideoCapture(0)"
   ]
  },
  
  {
   "cell_type": "code",
   "execution_count": null,
   "id": "704930cb-765d-475d-bc69-4793135b77d9",
   "metadata": {},
   "outputs": [],
   "source": []
  }
 ],
 "metadata": {
  "kernelspec": {
   "display_name": "Python 3 (ipykernel)",
   "language": "python",
   "name": "python3"
  },
  "language_info": {
   "codemirror_mode": {
    "name": "ipython",
    "version": 3
   },
   "file_extension": ".py",
   "mimetype": "text/x-python",
   "name": "python",
   "nbconvert_exporter": "python",
   "pygments_lexer": "ipython3",
   "version": "3.11.4"
  }
 },
 "nbformat": 4,
 "nbformat_minor": 5
}
